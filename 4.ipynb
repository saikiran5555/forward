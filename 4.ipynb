{
 "cells": [
  {
   "cell_type": "markdown",
   "id": "30a59b49",
   "metadata": {},
   "source": [
    "In forward propagation, weights and biases play crucial roles in determining the output of a neural network.\n",
    "\n",
    "Weights:\n",
    "\n",
    "Weights represent the strength of connections between neurons in different layers of the network.\n",
    "During forward propagation, the input values are multiplied by the corresponding weights.\n",
    "The weights essentially control the contribution of each input to the neuron's output.\n",
    "Adjusting the weights allows the network to learn and adapt to different patterns in the data.\n",
    "Biases:\n",
    "\n",
    "Biases are additional parameters in neurons that allow them to shift the activation function.\n",
    "They provide the flexibility for the network to learn and represent more complex relationships in the data.\n",
    "Biases help in situations where the input values may not always result in an output of the desired magnitude, by allowing the activation function to be shifted.\n",
    "Without biases, the network might not be able to properly learn certain patterns or may not generalize well to unseen data."
   ]
  }
 ],
 "metadata": {
  "kernelspec": {
   "display_name": "Python 3 (ipykernel)",
   "language": "python",
   "name": "python3"
  },
  "language_info": {
   "codemirror_mode": {
    "name": "ipython",
    "version": 3
   },
   "file_extension": ".py",
   "mimetype": "text/x-python",
   "name": "python",
   "nbconvert_exporter": "python",
   "pygments_lexer": "ipython3",
   "version": "3.10.9"
  }
 },
 "nbformat": 4,
 "nbformat_minor": 5
}
